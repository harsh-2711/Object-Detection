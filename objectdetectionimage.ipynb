{
  "nbformat": 4,
  "nbformat_minor": 0,
  "metadata": {
    "colab": {
      "name": "objectdetectionimage.ipynb",
      "version": "0.3.2",
      "provenance": [],
      "collapsed_sections": [],
      "toc_visible": true
    },
    "kernelspec": {
      "name": "python3",
      "display_name": "Python 3"
    }
  },
  "cells": [
    {
      "metadata": {
        "id": "Flo5_AfRu-oh",
        "colab_type": "code",
        "colab": {}
      },
      "cell_type": "code",
      "source": [
        "#Install the dependencies we need\n",
        "!pip install -q numpy\n",
        "!pip install -q scipy\n",
        "!pip install -q numpy\n",
        "!pip install -q opencv-python\n",
        "!pip install -q pillow\n",
        "!pip install -q matplotlib\n",
        "!pip install -q h5py\n",
        "!pip install -q keras\n",
        "!pip install -q imageai-2.0.2-py3-none-any.whl"
      ],
      "execution_count": 0,
      "outputs": []
    },
    {
      "metadata": {
        "id": "2p4K3F5gS0mP",
        "colab_type": "code",
        "outputId": "e456bec1-5ad8-4767-92b9-0f0f99c88dae",
        "colab": {
          "base_uri": "https://localhost:8080/",
          "height": 187
        }
      },
      "cell_type": "code",
      "source": [
        "from imageai.Detection import ObjectDetection\n",
        "import os\n",
        "\n",
        "execution_path = os.getcwd()\n",
        "\n",
        "detector = ObjectDetection()\n",
        "detector.setModelTypeAsRetinaNet()\n",
        "detector.setModelPath( os.path.join(\"resnet50_coco_best_v2.0.1.h5\"))\n",
        "detector.loadModel()\n",
        "detections = detector.detectObjectsFromImage(input_image=os.path.join(execution_path , \"soco.jpg\"), output_image_path=os.path.join(execution_path , \"soco2.jpg\"))\n",
        "\n",
        "for eachObject in detections:\n",
        "    print(eachObject[\"name\"] , \" : \" , eachObject[\"percentage_probability\"] )"
      ],
      "execution_count": 6,
      "outputs": [
        {
          "output_type": "stream",
          "text": [
            "person  :  58.84661674499512\n",
            "person  :  61.97855472564697\n",
            "person  :  50.85209608078003\n",
            "person  :  74.67139959335327\n",
            "person  :  74.44320917129517\n",
            "person  :  70.36260962486267\n",
            "car  :  92.37667918205261\n",
            "car  :  98.30732345581055\n",
            "car  :  99.21773076057434\n",
            "car  :  98.6670196056366\n"
          ],
          "name": "stdout"
        }
      ]
    }
  ]
}